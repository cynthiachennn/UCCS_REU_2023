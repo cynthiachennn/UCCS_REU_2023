{
 "cells": [
  {
   "cell_type": "code",
   "execution_count": 1,
   "metadata": {},
   "outputs": [],
   "source": [
    "import mne\n",
    "import numpy as np\n",
    "import pandas as pd\n",
    "import re"
   ]
  },
  {
   "attachments": {},
   "cell_type": "markdown",
   "metadata": {},
   "source": [
    "1: obtain epochs and evokeds representations"
   ]
  },
  {
   "cell_type": "code",
   "execution_count": null,
   "metadata": {},
   "outputs": [],
   "source": [
    "# read info from all files.\n",
    "subjList = ['A_405', 'A_408', 'B_110', 'B_309', 'B_311', 'B_316', 'C_204', 'C_429', 'E_321', 'E_415', 'E_429', 'F_027', 'F_209', 'F_210', 'G_413', 'G_428', 'H_804', 'I_719', 'I_723'] # exclude 'G_413' because it only has 3 events? and the other G only has like 30 events so like wtf :(  \n",
    "conditions = ['thumb', 'index', 'middle', 'ring', 'pinkie']\n",
    "fileNameList = [(subj, f'{subj}/{subj}_clean.set') for subj in subjList]\n",
    "fileList = [(subj, mne.io.read_raw_eeglab(fileName, verbose=False)) for subj, fileName in fileNameList]\n",
    "fileList = [(subj, file, (mne.events_from_annotations(file, verbose=False))) for subj, file in fileList]\n",
    "fileList = [(subj, mne.Epochs(file, events[0], event_id=[1, 2, 3, 4, 5],tmin= 0, tmax=2, baseline=None, preload=True, verbose=False)) for subj, file, events in fileList]\n",
    "\n",
    "fileListDict = dict(fileList)\n",
    "fileList = []\n",
    "\n",
    "for letter in ['A', 'B', 'C', 'E', 'F', 'G', 'H', 'I']: # \n",
    "    r = re.compile(f'{letter}_d*')\n",
    "    subjects = list(filter(r.match, subjList))\n",
    "    subjects = [fileListDict[x] for x in subjects]\n",
    "    fileName = f'subj_{letter}'\n",
    "    fileList.append((fileName, mne.concatenate_epochs(subjects)))\n",
    "\n",
    "fileList"
   ]
  },
  {
   "cell_type": "code",
   "execution_count": null,
   "metadata": {},
   "outputs": [],
   "source": [
    "subject = fileList[2]\n",
    "subject[1]"
   ]
  },
  {
   "cell_type": "code",
   "execution_count": null,
   "metadata": {},
   "outputs": [],
   "source": [
    "evokeds = {subject[1][c].average() for c in ['1', '2', '3', '4', '5']}"
   ]
  },
  {
   "cell_type": "code",
   "execution_count": null,
   "metadata": {},
   "outputs": [],
   "source": [
    "for c in evokeds:\n",
    "    c.plot_joint(title=c)"
   ]
  },
  {
   "cell_type": "code",
   "execution_count": null,
   "metadata": {},
   "outputs": [],
   "source": [
    "file = fileList[0][1]\n",
    "file.get_data(item=0).shape\n",
    "file.get_data(item=0).reshape(19*401)"
   ]
  },
  {
   "cell_type": "code",
   "execution_count": null,
   "metadata": {},
   "outputs": [],
   "source": [
    "# raw data as features/labels\n",
    "all_features = {}\n",
    "all_labels = {}\n",
    "\n",
    "for subj, file in fileList:\n",
    "    labels = pd.Series()\n",
    "    features = pd.DataFrame(columns=[j for i in range(19) for j in range(401)])\n",
    "    for trial_i in range(file.events.shape[0]):\n",
    "        labels.loc[len(labels)] = file.events[trial_i][2]\n",
    "        features.loc[len(features)] = file.get_data(item=trial_i).reshape(19*401) # :p i loveee hardcoding :D\n",
    "    all_features[subj] = features\n",
    "    all_labels[subj] = labels\n",
    "\n",
    "\n",
    "for subj, file in fileList:\n",
    "    all_features[subj].to_pickle(f'{subj}/data/raw_features_clean.pkl')\n",
    "    all_labels[subj].to_pickle(f'{subj}/data/raw_labels_clean.pkl')"
   ]
  },
  {
   "cell_type": "code",
   "execution_count": 5,
   "metadata": {},
   "outputs": [],
   "source": [
    "# load from .pkl files :D\n",
    "all_features = {}\n",
    "all_labels = {}\n",
    "fileList = []\n",
    "\n",
    "for letter in ['A', 'B', 'C', 'E', 'F', 'G', 'H', 'I']: \n",
    "    all_features[f'subj_{letter}'] = pd.read_pickle(f'subj_{letter}/data/raw_features_clean.pkl')\n",
    "    all_labels[f'subj_{letter}'] = pd.read_pickle(f'subj_{letter}/data/raw_labels_clean.pkl')\n",
    "    fileList.append((f'subj_{letter}', (all_features[f'subj_{letter}'], all_labels[f'subj_{letter}'])))\n"
   ]
  },
  {
   "cell_type": "code",
   "execution_count": null,
   "metadata": {},
   "outputs": [],
   "source": [
    "print(fileList[0][1].get_data(item=trial_i)[0].T[start:end].shape)\n",
    "print(fileList[0][1].get_data(item=2)[0][:][0:100].shape)"
   ]
  },
  {
   "cell_type": "code",
   "execution_count": null,
   "metadata": {},
   "outputs": [],
   "source": [
    "# pseudosampling\n",
    "\n",
    "window = 100 # window size\n",
    "strides = [75, 50, 25, 25, 50, 75, 0] # step size (but actually it's better to make it BELL CURVE OMGGGGGGG (for overlap % maybe then...))\n",
    "pseudosampled_features = {}\n",
    "pseudosampled_labels = {}\n",
    "\n",
    "for subj, file in fileList:\n",
    "    labels = pd.Series()\n",
    "    features = pd.DataFrame(columns=[j for i in range(19) for j in range(100)])\n",
    "    for trial_i in range(file.events.shape[0]):\n",
    "        start = 0\n",
    "        for s in strides:\n",
    "            labels.loc[len(labels)] = file.events[trial_i][2]\n",
    "            end = start + window\n",
    "            features.loc[len(features)] = file.get_data(item=trial_i)[0].T[start:end].reshape(19*window)\n",
    "            start += s\n",
    "    pseudosampled_features[subj] = features\n",
    "    pseudosampled_labels[subj] = labels\n",
    "\n",
    "            \n",
    "    "
   ]
  },
  {
   "cell_type": "code",
   "execution_count": null,
   "metadata": {},
   "outputs": [],
   "source": [
    "for subj, file in fileList:\n",
    "    pseudosampled_features[subj].to_pickle(f'{subj}/data/pseudosampled_features_clean.pkl')\n",
    "    pseudosampled_labels[subj].to_pickle(f'{subj}/data/pseudosampled_labels_clean.pkl')"
   ]
  },
  {
   "attachments": {},
   "cell_type": "markdown",
   "metadata": {},
   "source": [
    "2: FFT Time !! slay"
   ]
  },
  {
   "cell_type": "code",
   "execution_count": null,
   "metadata": {},
   "outputs": [],
   "source": [
    "from scipy import fftpack\n",
    "import matplotlib.pyplot as plt\n",
    "\n",
    "def get_fft(file, trial, channel): # pull one piece of that data set, trial 1 of thumb data\n",
    "    sample = file.get_data(item=trial, picks=channel)[0][0]\n",
    "    #fig1 = plt.plot(np.linspace(0, 1.5, num=300), sample)\n",
    "    # fft on that one piece...\n",
    "\n",
    "    sig_fft = fftpack.fft(sample)\n",
    "    power = np.abs(sig_fft)**2\n",
    "    sample_freq = fftpack.fftfreq(sample.size)\n",
    "    return power[0:int(power.size/2)]\n",
    "    # fig2 = plt.plot(sample_freq[0:200], power[0:200])"
   ]
  },
  {
   "cell_type": "code",
   "execution_count": null,
   "metadata": {},
   "outputs": [],
   "source": [
    "# do fft for everyone :)\n",
    "# but acutally only try w one pereson frist ;D\n",
    "\n",
    "sr = 200 # sample rate\n",
    "t = 400 # sample size\n",
    "sample_freqs = fftpack.fftfreq(t) # since all samples are the same, sample freqs are the same\n",
    "\n",
    "all_features = {}\n",
    "all_labels = {}\n",
    "\n",
    "for subj, file in fileList:\n",
    "    # file.event_id = {'thumb':1, 'index':2, 'middle':3, 'ring':4, 'pinkie':5}\n",
    "    # conditions = ['thumb']\n",
    "    labels = pd.Series()\n",
    "    features = pd.DataFrame(columns=[j for i in range(19) for j in sample_freqs[0:int(t/2)]])\n",
    "    for trial_i in range(file.events.shape[0]): #for each event\n",
    "        labels.loc[len(labels)] = file.events[trial_i][2]\n",
    "        features_flat = []\n",
    "        for channel_i in range(19): #srry hardcoding this cuz lazy\n",
    "            power = get_fft(file, trial_i, channel_i)\n",
    "            features_flat.extend(power)\n",
    "        features.loc[len(features)] = features_flat\n",
    "    # features.to_csv(f'{subj}/fft/features.csv', index=False)\n",
    "    # labels.to_csv(f'{subj}/fft/labels.csv', index=False)\n",
    "    all_features[subj] = features\n",
    "    all_labels[subj] = labels\n",
    "\n",
    "#   print(f'{subj}: {file.events.shape[0]}')"
   ]
  },
  {
   "attachments": {},
   "cell_type": "markdown",
   "metadata": {},
   "source": [
    "STFT"
   ]
  },
  {
   "cell_type": "code",
   "execution_count": null,
   "metadata": {},
   "outputs": [],
   "source": [
    "import scipy.signal.stft as stft\n",
    "\n",
    "def get_stft(file, trial, channel):\n",
    "    sample = file.get_data(item=trial, picks=channel)[0][0]\n",
    "    f, t, Zxx = stft(sample, fs=200, window='triang', boundary= None)\n",
    "    plt.pcolormesh(t, f, np.abs(Zxx), vmin=0, vmax=amp, shading='gouraud')\n",
    "    plt.title('STFT Magnitude')\n",
    "    plt.ylabel('Frequency [Hz]')\n",
    "    plt.xlabel('Time [sec]')\n",
    "    plt.show()\n",
    "    print(Zxx.shape)\n",
    "    return Zxx"
   ]
  },
  {
   "cell_type": "code",
   "execution_count": null,
   "metadata": {},
   "outputs": [],
   "source": [
    "fileList = fileList[0:1]\n",
    "STFT_features = {}\n",
    "STFT_labels = {}\n",
    "\n",
    "for subj, file in fileList:\n",
    "    labels = pd.Series()\n",
    "    features = pd.DataFrame(columns=[j for i in range(19) for j in sample_freqs[0:int(t/2)]])\n",
    "    for trial_i in range(file.events.shape[0]): #for each event\n",
    "        labels.loc[len(labels)] = file.events[trial_i][2]\n",
    "        features_flat = []\n",
    "        for channel_i in range(19): #srry hardcoding this cuz lazy\n",
    "            power = get_fft(file, trial_i, channel_i)\n",
    "            features_flat.extend(power)\n",
    "        features.loc[len(features)] = features_flat\n",
    "    # features.to_csv(f'{subj}/fft/features.csv', index=False)\n",
    "    # labels.to_csv(f'{subj}/fft/labels.csv', index=False)\n",
    "    all_features[subj] = features\n",
    "    all_labels[subj] = labels"
   ]
  },
  {
   "attachments": {},
   "cell_type": "markdown",
   "metadata": {},
   "source": [
    "1D CNN:"
   ]
  },
  {
   "cell_type": "code",
   "execution_count": null,
   "metadata": {},
   "outputs": [],
   "source": [
    "import tensorflow as tf\n",
    "\n",
    "class ConvNet_tf(tf.keras.Model):\n",
    "\n",
    "  def __init__(self):\n",
    "    super(ConvNet, self).__init__()\n",
    "    self.conv1 = tf.keras.Sequential(\n",
    "        tf.keras.layers.Conv1D(1, 32, 3, 'valid', activation='relu'),\n",
    "        nn.MaxPool1D(2, 2)\n",
    "    )\n",
    "    \n",
    "    self.conv2 = tf.keras.Sequential(\n",
    "        nn.Conv1D(32, 64, 3, 'valid', activation='relu'),\n",
    "        nn.MaxPool1D(2, 2)\n",
    "    )\n",
    "\n",
    "    self.hidden = tf.keras.Sequential(\n",
    "        nn.Flatten(),\n",
    "        nn.Dense(1600, 'relu'),\n",
    "        nn.Dense(128, 'softmax')  \n",
    "    )\n",
    "\n",
    "    def call(self, inputs):\n",
    "        x = self.conv1(inputs)\n",
    "        x = self.conv2(x)\n",
    "        x = self.hidden(x)\n",
    "        return x\n"
   ]
  },
  {
   "cell_type": "code",
   "execution_count": 28,
   "metadata": {},
   "outputs": [],
   "source": [
    "import torch\n",
    "import torch.nn as nn\n",
    "import torch.optim as optim\n",
    "from sklearn.model_selection import train_test_split\n",
    "\n",
    "class ConvNet_1D(nn.Module):\n",
    "    def __init__(self):\n",
    "        super(ConvNet_1D, self).__init__()\n",
    "        ### FILL IN ### [10 POINTS]\n",
    "\n",
    "        self.conv1 = nn.Sequential(\n",
    "            nn.Conv1d(19, 32, 3),\n",
    "            nn.ReLU(), \n",
    "            nn.MaxPool1d(2)\n",
    "        )\n",
    "        \n",
    "        self.conv2 = nn.Sequential(\n",
    "            nn.Conv1d(32, 64, 5),\n",
    "            nn.ReLU(),\n",
    "            nn.MaxPool1d(2)\n",
    "        )\n",
    "\n",
    "        self.conv3 = nn.Sequential(\n",
    "            nn.Conv1d(32, 64, 7),\n",
    "            nn.ReLU(),\n",
    "            nn.MaxPool1d(2)\n",
    "        )\n",
    "\n",
    "        self.hidden = nn.Sequential(\n",
    "            nn.Flatten(),\n",
    "            # nn.Linear(121728, 256),\n",
    "            nn.Linear(6208, 256),\n",
    "            nn.Linear(256, 5)  \n",
    "        )\n",
    "\n",
    "    def forward(self, x):\n",
    "        ### FILL IN ### [5 POINTS]\n",
    "        x = self.conv1(x)\n",
    "        x = self.conv2(x)\n",
    "        x = self.hidden(x)\n",
    "        return x"
   ]
  },
  {
   "cell_type": "code",
   "execution_count": 34,
   "metadata": {},
   "outputs": [
    {
     "name": "stdout",
     "output_type": "stream",
     "text": [
      "epoch =  0\n"
     ]
    },
    {
     "ename": "RuntimeError",
     "evalue": "Given groups=1, weight of size [32, 19, 3], expected input[1314, 1, 7619] to have 19 channels, but got 1 channels instead",
     "output_type": "error",
     "traceback": [
      "\u001b[1;31m---------------------------------------------------------------------------\u001b[0m",
      "\u001b[1;31mRuntimeError\u001b[0m                              Traceback (most recent call last)",
      "Cell \u001b[1;32mIn[34], line 28\u001b[0m\n\u001b[0;32m     25\u001b[0m targets \u001b[39m=\u001b[39m targets\u001b[39m.\u001b[39mto(device)\n\u001b[0;32m     27\u001b[0m \u001b[39m# Forward pass\u001b[39;00m\n\u001b[1;32m---> 28\u001b[0m conv_net_predictions \u001b[39m=\u001b[39m conv_net(data)\n\u001b[0;32m     29\u001b[0m conv_net_loss \u001b[39m=\u001b[39m criterion(conv_net_predictions, targets)\n\u001b[0;32m     31\u001b[0m \u001b[39m# Backward pass\u001b[39;00m\n",
      "File \u001b[1;32mc:\\Users\\Owner\\anaconda3\\lib\\site-packages\\torch\\nn\\modules\\module.py:1501\u001b[0m, in \u001b[0;36mModule._call_impl\u001b[1;34m(self, *args, **kwargs)\u001b[0m\n\u001b[0;32m   1496\u001b[0m \u001b[39m# If we don't have any hooks, we want to skip the rest of the logic in\u001b[39;00m\n\u001b[0;32m   1497\u001b[0m \u001b[39m# this function, and just call forward.\u001b[39;00m\n\u001b[0;32m   1498\u001b[0m \u001b[39mif\u001b[39;00m \u001b[39mnot\u001b[39;00m (\u001b[39mself\u001b[39m\u001b[39m.\u001b[39m_backward_hooks \u001b[39mor\u001b[39;00m \u001b[39mself\u001b[39m\u001b[39m.\u001b[39m_backward_pre_hooks \u001b[39mor\u001b[39;00m \u001b[39mself\u001b[39m\u001b[39m.\u001b[39m_forward_hooks \u001b[39mor\u001b[39;00m \u001b[39mself\u001b[39m\u001b[39m.\u001b[39m_forward_pre_hooks\n\u001b[0;32m   1499\u001b[0m         \u001b[39mor\u001b[39;00m _global_backward_pre_hooks \u001b[39mor\u001b[39;00m _global_backward_hooks\n\u001b[0;32m   1500\u001b[0m         \u001b[39mor\u001b[39;00m _global_forward_hooks \u001b[39mor\u001b[39;00m _global_forward_pre_hooks):\n\u001b[1;32m-> 1501\u001b[0m     \u001b[39mreturn\u001b[39;00m forward_call(\u001b[39m*\u001b[39margs, \u001b[39m*\u001b[39m\u001b[39m*\u001b[39mkwargs)\n\u001b[0;32m   1502\u001b[0m \u001b[39m# Do not call functions when jit is used\u001b[39;00m\n\u001b[0;32m   1503\u001b[0m full_backward_hooks, non_full_backward_hooks \u001b[39m=\u001b[39m [], []\n",
      "Cell \u001b[1;32mIn[28], line 38\u001b[0m, in \u001b[0;36mConvNet_1D.forward\u001b[1;34m(self, x)\u001b[0m\n\u001b[0;32m     36\u001b[0m \u001b[39mdef\u001b[39;00m \u001b[39mforward\u001b[39m(\u001b[39mself\u001b[39m, x):\n\u001b[0;32m     37\u001b[0m     \u001b[39m### FILL IN ### [5 POINTS]\u001b[39;00m\n\u001b[1;32m---> 38\u001b[0m     x \u001b[39m=\u001b[39m \u001b[39mself\u001b[39;49m\u001b[39m.\u001b[39;49mconv1(x)\n\u001b[0;32m     39\u001b[0m     x \u001b[39m=\u001b[39m \u001b[39mself\u001b[39m\u001b[39m.\u001b[39mconv2(x)\n\u001b[0;32m     40\u001b[0m     x \u001b[39m=\u001b[39m \u001b[39mself\u001b[39m\u001b[39m.\u001b[39mhidden(x)\n",
      "File \u001b[1;32mc:\\Users\\Owner\\anaconda3\\lib\\site-packages\\torch\\nn\\modules\\module.py:1501\u001b[0m, in \u001b[0;36mModule._call_impl\u001b[1;34m(self, *args, **kwargs)\u001b[0m\n\u001b[0;32m   1496\u001b[0m \u001b[39m# If we don't have any hooks, we want to skip the rest of the logic in\u001b[39;00m\n\u001b[0;32m   1497\u001b[0m \u001b[39m# this function, and just call forward.\u001b[39;00m\n\u001b[0;32m   1498\u001b[0m \u001b[39mif\u001b[39;00m \u001b[39mnot\u001b[39;00m (\u001b[39mself\u001b[39m\u001b[39m.\u001b[39m_backward_hooks \u001b[39mor\u001b[39;00m \u001b[39mself\u001b[39m\u001b[39m.\u001b[39m_backward_pre_hooks \u001b[39mor\u001b[39;00m \u001b[39mself\u001b[39m\u001b[39m.\u001b[39m_forward_hooks \u001b[39mor\u001b[39;00m \u001b[39mself\u001b[39m\u001b[39m.\u001b[39m_forward_pre_hooks\n\u001b[0;32m   1499\u001b[0m         \u001b[39mor\u001b[39;00m _global_backward_pre_hooks \u001b[39mor\u001b[39;00m _global_backward_hooks\n\u001b[0;32m   1500\u001b[0m         \u001b[39mor\u001b[39;00m _global_forward_hooks \u001b[39mor\u001b[39;00m _global_forward_pre_hooks):\n\u001b[1;32m-> 1501\u001b[0m     \u001b[39mreturn\u001b[39;00m forward_call(\u001b[39m*\u001b[39margs, \u001b[39m*\u001b[39m\u001b[39m*\u001b[39mkwargs)\n\u001b[0;32m   1502\u001b[0m \u001b[39m# Do not call functions when jit is used\u001b[39;00m\n\u001b[0;32m   1503\u001b[0m full_backward_hooks, non_full_backward_hooks \u001b[39m=\u001b[39m [], []\n",
      "File \u001b[1;32mc:\\Users\\Owner\\anaconda3\\lib\\site-packages\\torch\\nn\\modules\\container.py:217\u001b[0m, in \u001b[0;36mSequential.forward\u001b[1;34m(self, input)\u001b[0m\n\u001b[0;32m    215\u001b[0m \u001b[39mdef\u001b[39;00m \u001b[39mforward\u001b[39m(\u001b[39mself\u001b[39m, \u001b[39minput\u001b[39m):\n\u001b[0;32m    216\u001b[0m     \u001b[39mfor\u001b[39;00m module \u001b[39min\u001b[39;00m \u001b[39mself\u001b[39m:\n\u001b[1;32m--> 217\u001b[0m         \u001b[39minput\u001b[39m \u001b[39m=\u001b[39m module(\u001b[39minput\u001b[39;49m)\n\u001b[0;32m    218\u001b[0m     \u001b[39mreturn\u001b[39;00m \u001b[39minput\u001b[39m\n",
      "File \u001b[1;32mc:\\Users\\Owner\\anaconda3\\lib\\site-packages\\torch\\nn\\modules\\module.py:1501\u001b[0m, in \u001b[0;36mModule._call_impl\u001b[1;34m(self, *args, **kwargs)\u001b[0m\n\u001b[0;32m   1496\u001b[0m \u001b[39m# If we don't have any hooks, we want to skip the rest of the logic in\u001b[39;00m\n\u001b[0;32m   1497\u001b[0m \u001b[39m# this function, and just call forward.\u001b[39;00m\n\u001b[0;32m   1498\u001b[0m \u001b[39mif\u001b[39;00m \u001b[39mnot\u001b[39;00m (\u001b[39mself\u001b[39m\u001b[39m.\u001b[39m_backward_hooks \u001b[39mor\u001b[39;00m \u001b[39mself\u001b[39m\u001b[39m.\u001b[39m_backward_pre_hooks \u001b[39mor\u001b[39;00m \u001b[39mself\u001b[39m\u001b[39m.\u001b[39m_forward_hooks \u001b[39mor\u001b[39;00m \u001b[39mself\u001b[39m\u001b[39m.\u001b[39m_forward_pre_hooks\n\u001b[0;32m   1499\u001b[0m         \u001b[39mor\u001b[39;00m _global_backward_pre_hooks \u001b[39mor\u001b[39;00m _global_backward_hooks\n\u001b[0;32m   1500\u001b[0m         \u001b[39mor\u001b[39;00m _global_forward_hooks \u001b[39mor\u001b[39;00m _global_forward_pre_hooks):\n\u001b[1;32m-> 1501\u001b[0m     \u001b[39mreturn\u001b[39;00m forward_call(\u001b[39m*\u001b[39margs, \u001b[39m*\u001b[39m\u001b[39m*\u001b[39mkwargs)\n\u001b[0;32m   1502\u001b[0m \u001b[39m# Do not call functions when jit is used\u001b[39;00m\n\u001b[0;32m   1503\u001b[0m full_backward_hooks, non_full_backward_hooks \u001b[39m=\u001b[39m [], []\n",
      "File \u001b[1;32mc:\\Users\\Owner\\anaconda3\\lib\\site-packages\\torch\\nn\\modules\\conv.py:313\u001b[0m, in \u001b[0;36mConv1d.forward\u001b[1;34m(self, input)\u001b[0m\n\u001b[0;32m    312\u001b[0m \u001b[39mdef\u001b[39;00m \u001b[39mforward\u001b[39m(\u001b[39mself\u001b[39m, \u001b[39minput\u001b[39m: Tensor) \u001b[39m-\u001b[39m\u001b[39m>\u001b[39m Tensor:\n\u001b[1;32m--> 313\u001b[0m     \u001b[39mreturn\u001b[39;00m \u001b[39mself\u001b[39;49m\u001b[39m.\u001b[39;49m_conv_forward(\u001b[39minput\u001b[39;49m, \u001b[39mself\u001b[39;49m\u001b[39m.\u001b[39;49mweight, \u001b[39mself\u001b[39;49m\u001b[39m.\u001b[39;49mbias)\n",
      "File \u001b[1;32mc:\\Users\\Owner\\anaconda3\\lib\\site-packages\\torch\\nn\\modules\\conv.py:309\u001b[0m, in \u001b[0;36mConv1d._conv_forward\u001b[1;34m(self, input, weight, bias)\u001b[0m\n\u001b[0;32m    305\u001b[0m \u001b[39mif\u001b[39;00m \u001b[39mself\u001b[39m\u001b[39m.\u001b[39mpadding_mode \u001b[39m!=\u001b[39m \u001b[39m'\u001b[39m\u001b[39mzeros\u001b[39m\u001b[39m'\u001b[39m:\n\u001b[0;32m    306\u001b[0m     \u001b[39mreturn\u001b[39;00m F\u001b[39m.\u001b[39mconv1d(F\u001b[39m.\u001b[39mpad(\u001b[39minput\u001b[39m, \u001b[39mself\u001b[39m\u001b[39m.\u001b[39m_reversed_padding_repeated_twice, mode\u001b[39m=\u001b[39m\u001b[39mself\u001b[39m\u001b[39m.\u001b[39mpadding_mode),\n\u001b[0;32m    307\u001b[0m                     weight, bias, \u001b[39mself\u001b[39m\u001b[39m.\u001b[39mstride,\n\u001b[0;32m    308\u001b[0m                     _single(\u001b[39m0\u001b[39m), \u001b[39mself\u001b[39m\u001b[39m.\u001b[39mdilation, \u001b[39mself\u001b[39m\u001b[39m.\u001b[39mgroups)\n\u001b[1;32m--> 309\u001b[0m \u001b[39mreturn\u001b[39;00m F\u001b[39m.\u001b[39;49mconv1d(\u001b[39minput\u001b[39;49m, weight, bias, \u001b[39mself\u001b[39;49m\u001b[39m.\u001b[39;49mstride,\n\u001b[0;32m    310\u001b[0m                 \u001b[39mself\u001b[39;49m\u001b[39m.\u001b[39;49mpadding, \u001b[39mself\u001b[39;49m\u001b[39m.\u001b[39;49mdilation, \u001b[39mself\u001b[39;49m\u001b[39m.\u001b[39;49mgroups)\n",
      "\u001b[1;31mRuntimeError\u001b[0m: Given groups=1, weight of size [32, 19, 3], expected input[1314, 1, 7619] to have 19 channels, but got 1 channels instead"
     ]
    }
   ],
   "source": [
    "import torch\n",
    "import torch.nn as nn\n",
    "import torch.optim as optim\n",
    "from sklearn.model_selection import train_test_split\n",
    "# train neural net\n",
    "device = torch.device('cuda' if torch.cuda.is_available() else 'cpu')\n",
    "\n",
    "for subj, file in fileList[2:3]:\n",
    "    features = all_features[subj]\n",
    "    labels = all_labels[subj]\n",
    "    X_train, X_test, y_train, y_test = train_test_split(features, labels, test_size= 0.3) # 70% training 30% test\n",
    "    conv_net = ConvNet_1D().to(device)\n",
    "    criterion = nn.CrossEntropyLoss()\n",
    "    conv_net_optimizer = torch.optim.Adam(conv_net.parameters(), lr=0.001)\n",
    "    \n",
    "    # Train the neural network\n",
    "    for epoch in range(5):\n",
    "        print(\"epoch = \",epoch)\n",
    "        conv_net.train()\n",
    "        data = X_train.to_numpy()\n",
    "        targets = y_train.subtract(1, axis=0).to_numpy()\n",
    "        data = torch.tensor(data.reshape(int(data.shape[0]), 1, int(data.shape[1])), dtype=torch.float32) # reshape # of trial, 1 channel, # of samples\n",
    "        data = data.to(device)\n",
    "        targets = torch.tensor(targets, dtype=torch.int64)\n",
    "        targets = targets.to(device)\n",
    "\n",
    "        # Forward pass\n",
    "        conv_net_predictions = conv_net(data)\n",
    "        conv_net_loss = criterion(conv_net_predictions, targets)\n",
    "\n",
    "        # Backward pass\n",
    "        conv_net_optimizer.zero_grad()\n",
    "        conv_net_loss.backward()\n",
    "        conv_net_optimizer.step()\n",
    "\n",
    "        # Evaluate the neural network\n",
    "        conv_net.eval()\n",
    "        correct, total = 0, 0\n",
    "        with torch.no_grad():\n",
    "            data = X_train.to_numpy()\n",
    "            targets = y_train.subtract(1, axis=0).to_numpy()\n",
    "            data = torch.tensor(data.reshape(int(data.shape[0]), 1, int(data.shape[1])), dtype=torch.float32) # reshape # of trial, 1 channel, # of samples\n",
    "            data = data.to(device)\n",
    "            targets = torch.tensor(targets, dtype=torch.int64)\n",
    "            targets = targets.to(device)\n",
    "            conv_net_predictions = conv_net(data)\n",
    "            _, predicted = torch.max(conv_net_predictions.data, 1)\n",
    "            total += targets.size(0)\n",
    "            correct += (predicted == targets).sum().item()\n",
    "        print(\"test accuracy = \",correct/total)"
   ]
  },
  {
   "attachments": {},
   "cell_type": "markdown",
   "metadata": {},
   "source": [
    "2d CNN"
   ]
  },
  {
   "cell_type": "code",
   "execution_count": 36,
   "metadata": {},
   "outputs": [
    {
     "name": "stdout",
     "output_type": "stream",
     "text": [
      "epoch =  0\n",
      "test accuracy =  0.1985611510791367\n",
      "epoch =  1\n",
      "test accuracy =  0.22302158273381295\n",
      "epoch =  2\n",
      "test accuracy =  0.23453237410071942\n",
      "epoch =  3\n",
      "test accuracy =  0.1553956834532374\n",
      "epoch =  4\n",
      "test accuracy =  0.1553956834532374\n"
     ]
    }
   ],
   "source": [
    "import torch\n",
    "import torch.nn as nn\n",
    "import torch.optim as optim\n",
    "from sklearn.model_selection import train_test_split\n",
    "# train neural net\n",
    "device = torch.device('cuda' if torch.cuda.is_available() else 'cpu')\n",
    "\n",
    "for subj, file in fileList[3:4]:\n",
    "    features = all_features[subj]\n",
    "    labels = all_labels[subj]\n",
    "    X_train, X_test, y_train, y_test = train_test_split(features, labels, test_size= 0.3) # 70% training 30% test\n",
    "    conv_net = ConvNet_1D().to(device)\n",
    "    criterion = nn.CrossEntropyLoss()\n",
    "    conv_net_optimizer = torch.optim.Adam(conv_net.parameters(), lr=0.001)\n",
    "    \n",
    "    # Train the neural network\n",
    "    for epoch in range(5):\n",
    "        print(\"epoch = \",epoch)\n",
    "        conv_net.train()\n",
    "        data = X_train.to_numpy()\n",
    "        targets = y_train.subtract(1, axis=0).to_numpy()\n",
    "        data = torch.tensor(data.reshape(int(data.shape[0]), 19, int(data.shape[1]/19)), dtype=torch.float32) # reshape # of trial, 1 channel, # of samples\n",
    "        data = data.to(device)\n",
    "        targets = torch.tensor(targets, dtype=torch.int64)\n",
    "        targets = targets.to(device)\n",
    "\n",
    "        # Forward pass\n",
    "        conv_net_predictions = conv_net(data)\n",
    "        conv_net_loss = criterion(conv_net_predictions, targets)\n",
    "\n",
    "        # Backward pass\n",
    "        conv_net_optimizer.zero_grad()\n",
    "        conv_net_loss.backward()\n",
    "        conv_net_optimizer.step()\n",
    "\n",
    "        # Evaluate the neural network\n",
    "        conv_net.eval()\n",
    "        correct, total = 0, 0\n",
    "        with torch.no_grad():\n",
    "            data = X_test.to_numpy()\n",
    "            targets = y_test.subtract(1, axis=0).to_numpy()\n",
    "            data = torch.tensor(data.reshape(int(data.shape[0]), 19, int(data.shape[1]/19)), dtype=torch.float32) # reshape # of trial, 1 channel, # of samples\n",
    "            data = data.to(device)\n",
    "            targets = torch.tensor(targets, dtype=torch.int64)\n",
    "            targets = targets.to(device)\n",
    "            conv_net_predictions = conv_net(data)\n",
    "            _, predicted = torch.max(conv_net_predictions.data, 1)\n",
    "            total += targets.size(0)\n",
    "            correct += (predicted == targets).sum().item()\n",
    "        print(\"test accuracy = \",correct/total)\n",
    "\n"
   ]
  },
  {
   "attachments": {},
   "cell_type": "markdown",
   "metadata": {},
   "source": [
    "3: SVM"
   ]
  },
  {
   "cell_type": "code",
   "execution_count": null,
   "metadata": {},
   "outputs": [],
   "source": [
    "from sklearn.model_selection import train_test_split\n",
    "from sklearn import svm\n",
    "from sklearn import metrics"
   ]
  },
  {
   "cell_type": "code",
   "execution_count": null,
   "metadata": {},
   "outputs": [],
   "source": [
    "from sklearn import metrics\n",
    "# SVM TIME WOOO\n",
    "for subj, file in fileList:\n",
    "    features = pseudosampled_features[subj]\n",
    "    labels = pseudosampled_labels[subj]\n",
    "    X_train, X_test, y_train, y_test = train_test_split(features, labels, test_size= 0.3) # 70% training 30% test\n",
    "    \n",
    "    classifier = svm.SVC(kernel='rbf') # radial basis kernel; gamma should be 0.1\n",
    "    classifier.fit(X_train, y_train)\n",
    "    y_pred = classifier.predict(X_test)\n",
    "\n",
    "    print(f\"Accuracy {subj}:\",metrics.accuracy_score(y_test, y_pred))"
   ]
  },
  {
   "cell_type": "code",
   "execution_count": null,
   "metadata": {},
   "outputs": [],
   "source": [
    "# SVM TIME WOOO\n",
    "for subj, file in fileList:\n",
    "    features = all_features[subj]\n",
    "    labels = all_labels[subj]\n",
    "    X_train, X_test, y_train, y_test = train_test_split(features, labels, test_size= 0.3) # 70% training 30% test\n",
    "    \n",
    "    classifier = svm.SVC(kernel='rbf') # radial basis kernel; gamma should be 0.1\n",
    "    classifier.fit(X_train, y_train)\n",
    "    y_pred = classifier.predict(X_test)\n",
    "\n",
    "    print(f\"Accuracy {subj}:\",metrics.accuracy_score(y_test, y_pred))"
   ]
  },
  {
   "cell_type": "markdown",
   "metadata": {},
   "source": [
    "random forest ? !"
   ]
  },
  {
   "cell_type": "code",
   "execution_count": null,
   "metadata": {},
   "outputs": [],
   "source": [
    "# Import the model we are using\n",
    "from sklearn.ensemble import RandomForestRegressor\n",
    "\n",
    "for subj, file in fileList:\n",
    "    features = pseudosampled_features[subj]\n",
    "    labels = pseudosampled_labels[subj]\n",
    "    X_train, X_test, y_train, y_test = train_test_split(features, labels, test_size= 0.3) # 70% training 30% test\n",
    "\n",
    "    rf = RandomForestRegressor(n_estimators = 1000)\n",
    "    rf.fit(X_train, y_train)\n",
    "    y_pred = rf.predict(X_test)\n",
    "    print(f\"Accuracy {subj}:\",metrics.accuracy_score(y_test, y_pred))"
   ]
  },
  {
   "cell_type": "code",
   "execution_count": null,
   "metadata": {},
   "outputs": [],
   "source": [
    "for subj, file in fileList:\n",
    "    features = all_features[subj]\n",
    "    labels = all_labels[subj]\n",
    "    X_train, X_test, y_train, y_test = train_test_split(features, labels, test_size= 0.3) # 70% training 30% test\n",
    "\n",
    "    rf = RandomForestRegressor(n_estimators = 1000)\n",
    "    rf.fit(X_train, y_train)\n",
    "    y_pred = rf.predict(X_test)\n",
    "    \n",
    "    print(f\"Accuracy {subj}:\",metrics.accuracy_score(y_test, y_pred))"
   ]
  },
  {
   "attachments": {},
   "cell_type": "markdown",
   "metadata": {},
   "source": [
    "3: try morlet??"
   ]
  },
  {
   "cell_type": "code",
   "execution_count": null,
   "metadata": {},
   "outputs": [],
   "source": [
    "print(tfr.data.shape)\n",
    "freqs.shape"
   ]
  },
  {
   "cell_type": "code",
   "execution_count": null,
   "metadata": {},
   "outputs": [],
   "source": [
    "# Define frequencies of interest\n",
    "freqs = np.logspace(*np.log10([6, 30]), num=20) \n",
    "\n",
    "for subj, file in fileList:\n",
    "    tfr = mne.time_frequency.tfr_morlet(file, freqs=freqs, n_cycles=freqs / 2., return_itc=False)\n",
    "    features = tfr.data.reshape((tfr.data.shape[0]*tfr.data.shape[1]* tfr.data.shape[2]))\n",
    "    labels = [file.events[trial][2] for trial in file.events.shape[0]]  # Extract labels from the epochs\n"
   ]
  }
 ],
 "metadata": {
  "kernelspec": {
   "display_name": "base",
   "language": "python",
   "name": "python3"
  },
  "language_info": {
   "codemirror_mode": {
    "name": "ipython",
    "version": 3
   },
   "file_extension": ".py",
   "mimetype": "text/x-python",
   "name": "python",
   "nbconvert_exporter": "python",
   "pygments_lexer": "ipython3",
   "version": "3.10.9"
  },
  "orig_nbformat": 4
 },
 "nbformat": 4,
 "nbformat_minor": 2
}
